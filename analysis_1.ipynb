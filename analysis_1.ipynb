{
 "cells": [
  {
   "cell_type": "code",
   "execution_count": 10,
   "metadata": {},
   "outputs": [],
   "source": [
    "import pandas as pd\n",
    "import numpy as np\n",
    "import seaborn as sns\n",
    "import matplotlib.pyplot as plt\n",
    "\n",
    "from sklearn.linear_model import LogisticRegression\n",
    "from sklearn.ensemble import RandomForestClassifier\n",
    "\n",
    "from sklearn.model_selection import train_test_split, GridSearchCV\n",
    "\n",
    "from sklearn.preprocessing import LabelBinarizer, RobustScaler\n",
    "from sklearn.impute import SimpleImputer\n",
    "\n",
    "from sklearn.metrics import accuracy_score\n",
    "\n",
    "from sklearn_pandas import DataFrameMapper, cross_val_score"
   ]
  },
  {
   "cell_type": "code",
   "execution_count": 2,
   "metadata": {},
   "outputs": [],
   "source": [
    "def rename_columns(df: pd.DataFrame) -> pd.DataFrame:\n",
    "    columns_mapping = {\n",
    "        \"PassengerId\": \"passenger_id\",\n",
    "        \"Survived\": \"survived\",\n",
    "        \"Pclass\": \"ticket_class\",\n",
    "        \"Name\": \"full_name\",\n",
    "        \"Sex\": \"sex\",\n",
    "        \"Age\": \"age\",\n",
    "        \"Ticket\": \"ticket_number\",\n",
    "        \"Fare\": \"ticket_price\",\n",
    "        \"Embarked\": \"embark_place\",\n",
    "        \"SibSp\": \"sibling_spouses_onboard\",\n",
    "        \"Parch\" : \"parents_children_onboard\",\n",
    "        \"Cabin\": \"cabin_code\",\n",
    "    }\n",
    "    \n",
    "    return df.rename(columns=columns_mapping)\n",
    "    \n",
    "\n",
    "def drop_columns(df: pd.DataFrame) -> pd.DataFrame:\n",
    "    columns_to_drop = [\"cabin_code\"]\n",
    "    return df.drop(columns_to_drop, axis=1)\n",
    "\n",
    "def feature_engineering(df: pd.DataFrame) -> pd.DataFrame:\n",
    "    df[\"family_onboard\"] = df[\"sibling_spouses_onboard\"] + df[\"parents_children_onboard\"]\n",
    "    return df\n",
    "\n",
    "def null_processing(df: pd.DataFrame) -> pd.DataFrame:\n",
    "    df = df.dropna(subset=[\"embark_place\"])\n",
    "    \n",
    "    df.loc[:, \"age\"] = df[\"age\"].fillna(df[\"age\"].median())\n",
    "    \n",
    "    return df\n",
    "\n",
    "def pre_process(df: pd.DataFrame) -> pd.DataFrame:\n",
    "    df = rename_columns(df)\n",
    "    df = drop_columns(df)\n",
    "    df = feature_engineering(df)\n",
    "    df = null_processing(df)\n",
    "    \n",
    "    return df\n",
    "    "
   ]
  },
  {
   "cell_type": "code",
   "execution_count": 3,
   "metadata": {},
   "outputs": [
    {
     "name": "stderr",
     "output_type": "stream",
     "text": [
      "/home/giuliano/kaggle/kaggle-titanic/venv/lib/python3.7/site-packages/pandas/core/indexing.py:543: SettingWithCopyWarning: \n",
      "A value is trying to be set on a copy of a slice from a DataFrame.\n",
      "Try using .loc[row_indexer,col_indexer] = value instead\n",
      "\n",
      "See the caveats in the documentation: http://pandas.pydata.org/pandas-docs/stable/indexing.html#indexing-view-versus-copy\n",
      "  self.obj[item] = s\n"
     ]
    },
    {
     "data": {
      "text/html": [
       "<div>\n",
       "<style scoped>\n",
       "    .dataframe tbody tr th:only-of-type {\n",
       "        vertical-align: middle;\n",
       "    }\n",
       "\n",
       "    .dataframe tbody tr th {\n",
       "        vertical-align: top;\n",
       "    }\n",
       "\n",
       "    .dataframe thead th {\n",
       "        text-align: right;\n",
       "    }\n",
       "</style>\n",
       "<table border=\"1\" class=\"dataframe\">\n",
       "  <thead>\n",
       "    <tr style=\"text-align: right;\">\n",
       "      <th></th>\n",
       "      <th>passenger_id</th>\n",
       "      <th>survived</th>\n",
       "      <th>ticket_class</th>\n",
       "      <th>full_name</th>\n",
       "      <th>sex</th>\n",
       "      <th>age</th>\n",
       "      <th>sibling_spouses_onboard</th>\n",
       "      <th>parents_children_onboard</th>\n",
       "      <th>ticket_number</th>\n",
       "      <th>ticket_price</th>\n",
       "      <th>embark_place</th>\n",
       "      <th>family_onboard</th>\n",
       "    </tr>\n",
       "  </thead>\n",
       "  <tbody>\n",
       "    <tr>\n",
       "      <th>0</th>\n",
       "      <td>859</td>\n",
       "      <td>1</td>\n",
       "      <td>3</td>\n",
       "      <td>Baclini, Mrs. Solomon (Latifa Qurban)</td>\n",
       "      <td>female</td>\n",
       "      <td>24.0</td>\n",
       "      <td>0</td>\n",
       "      <td>3</td>\n",
       "      <td>2666</td>\n",
       "      <td>19.2583</td>\n",
       "      <td>C</td>\n",
       "      <td>3</td>\n",
       "    </tr>\n",
       "    <tr>\n",
       "      <th>1</th>\n",
       "      <td>603</td>\n",
       "      <td>0</td>\n",
       "      <td>1</td>\n",
       "      <td>Harrington, Mr. Charles H</td>\n",
       "      <td>male</td>\n",
       "      <td>28.0</td>\n",
       "      <td>0</td>\n",
       "      <td>0</td>\n",
       "      <td>113796</td>\n",
       "      <td>42.4000</td>\n",
       "      <td>S</td>\n",
       "      <td>0</td>\n",
       "    </tr>\n",
       "    <tr>\n",
       "      <th>2</th>\n",
       "      <td>675</td>\n",
       "      <td>0</td>\n",
       "      <td>2</td>\n",
       "      <td>Watson, Mr. Ennis Hastings</td>\n",
       "      <td>male</td>\n",
       "      <td>28.0</td>\n",
       "      <td>0</td>\n",
       "      <td>0</td>\n",
       "      <td>239856</td>\n",
       "      <td>0.0000</td>\n",
       "      <td>S</td>\n",
       "      <td>0</td>\n",
       "    </tr>\n",
       "    <tr>\n",
       "      <th>3</th>\n",
       "      <td>454</td>\n",
       "      <td>1</td>\n",
       "      <td>1</td>\n",
       "      <td>Goldenberg, Mr. Samuel L</td>\n",
       "      <td>male</td>\n",
       "      <td>49.0</td>\n",
       "      <td>1</td>\n",
       "      <td>0</td>\n",
       "      <td>17453</td>\n",
       "      <td>89.1042</td>\n",
       "      <td>C</td>\n",
       "      <td>1</td>\n",
       "    </tr>\n",
       "    <tr>\n",
       "      <th>4</th>\n",
       "      <td>197</td>\n",
       "      <td>0</td>\n",
       "      <td>3</td>\n",
       "      <td>Mernagh, Mr. Robert</td>\n",
       "      <td>male</td>\n",
       "      <td>28.0</td>\n",
       "      <td>0</td>\n",
       "      <td>0</td>\n",
       "      <td>368703</td>\n",
       "      <td>7.7500</td>\n",
       "      <td>Q</td>\n",
       "      <td>0</td>\n",
       "    </tr>\n",
       "  </tbody>\n",
       "</table>\n",
       "</div>"
      ],
      "text/plain": [
       "   passenger_id  survived  ticket_class  \\\n",
       "0           859         1             3   \n",
       "1           603         0             1   \n",
       "2           675         0             2   \n",
       "3           454         1             1   \n",
       "4           197         0             3   \n",
       "\n",
       "                               full_name     sex   age  \\\n",
       "0  Baclini, Mrs. Solomon (Latifa Qurban)  female  24.0   \n",
       "1              Harrington, Mr. Charles H    male  28.0   \n",
       "2             Watson, Mr. Ennis Hastings    male  28.0   \n",
       "3               Goldenberg, Mr. Samuel L    male  49.0   \n",
       "4                    Mernagh, Mr. Robert    male  28.0   \n",
       "\n",
       "   sibling_spouses_onboard  parents_children_onboard ticket_number  \\\n",
       "0                        0                         3          2666   \n",
       "1                        0                         0        113796   \n",
       "2                        0                         0        239856   \n",
       "3                        1                         0         17453   \n",
       "4                        0                         0        368703   \n",
       "\n",
       "   ticket_price embark_place  family_onboard  \n",
       "0       19.2583            C               3  \n",
       "1       42.4000            S               0  \n",
       "2        0.0000            S               0  \n",
       "3       89.1042            C               1  \n",
       "4        7.7500            Q               0  "
      ]
     },
     "execution_count": 3,
     "metadata": {},
     "output_type": "execute_result"
    }
   ],
   "source": [
    "data = pd.read_csv(\"data/train.csv\")\n",
    "data = pre_process(data)\n",
    "\n",
    "train_data, test_data = train_test_split(data)\n",
    "train_data = train_data.reset_index(drop=True)\n",
    "test_data = test_data.reset_index(drop=True)\n",
    "\n",
    "train_data.head()"
   ]
  },
  {
   "cell_type": "code",
   "execution_count": 32,
   "metadata": {
    "collapsed": true,
    "jupyter": {
     "outputs_hidden": true
    }
   },
   "outputs": [
    {
     "data": {
      "text/plain": [
       "passenger_id                  int64\n",
       "survived                      int64\n",
       "ticket_class                  int64\n",
       "full_name                    object\n",
       "sex                          object\n",
       "age                         float64\n",
       "sibling_spouses_onboard       int64\n",
       "parents_children_onboard      int64\n",
       "ticket_number                object\n",
       "ticket_price                float64\n",
       "embark_place                 object\n",
       "family_onboard                int64\n",
       "dtype: object"
      ]
     },
     "execution_count": 32,
     "metadata": {},
     "output_type": "execute_result"
    }
   ],
   "source": [
    "train_data.dtypes"
   ]
  },
  {
   "cell_type": "code",
   "execution_count": 19,
   "metadata": {
    "collapsed": true,
    "jupyter": {
     "outputs_hidden": true
    }
   },
   "outputs": [
    {
     "data": {
      "image/png": "[encoded data removed]",
      "text/plain": [
       "<Figure size 1440x720 with 3 Axes>"
      ]
     },
     "metadata": {
      "needs_background": "light"
     },
     "output_type": "display_data"
    }
   ],
   "source": [
    "cat_columns = [\"ticket_class\", \"sex\", \"embark_place\"]\n",
    "_, axs = plt.subplots(ncols=len(cat_columns), figsize=(20, 10))\n",
    "\n",
    "for i, column in enumerate(cat_columns):\n",
    "    sns.countplot(x=column, hue=\"survived\", data=train_data, ax=axs[i])"
   ]
  },
  {
   "cell_type": "code",
   "execution_count": 20,
   "metadata": {
    "collapsed": true,
    "jupyter": {
     "outputs_hidden": true
    }
   },
   "outputs": [
    {
     "data": {
      "image/png": "[encoded data removed]",
      "text/plain": [
       "<Figure size 1440x720 with 3 Axes>"
      ]
     },
     "metadata": {
      "needs_background": "light"
     },
     "output_type": "display_data"
    }
   ],
   "source": [
    "family_onboardnum_columns = [\"age\", \"ticket_price\", \"family_onboard\"]\n",
    "\n",
    "_, axs = plt.subplots(ncols=len(num_columns), figsize=(20, 10))\n",
    "\n",
    "for i, column in enumerate(num_columns):\n",
    "    sns.boxplot(x=\"survived\", y=column, data=train_data, ax=axs[i])"
   ]
  },
  {
   "cell_type": "code",
   "execution_count": 11,
   "metadata": {
    "collapsed": true,
    "jupyter": {
     "outputs_hidden": true
    }
   },
   "outputs": [
    {
     "data": {
      "text/plain": [
       "passenger_id                0.0\n",
       "survived                    0.0\n",
       "ticket_class                0.0\n",
       "full_name                   0.0\n",
       "sex                         0.0\n",
       "age                         0.0\n",
       "sibling_spouses_onboard     0.0\n",
       "parents_children_onboard    0.0\n",
       "ticket_number               0.0\n",
       "ticket_price                0.0\n",
       "embark_place                0.0\n",
       "family_onboard              0.0\n",
       "dtype: float64"
      ]
     },
     "execution_count": 11,
     "metadata": {},
     "output_type": "execute_result"
    }
   ],
   "source": [
    "train_data.isna().mean()"
   ]
  },
  {
   "cell_type": "code",
   "execution_count": 4,
   "metadata": {},
   "outputs": [],
   "source": [
    "features_to_use = [\"ticket_class\", \"sex\", \"age\", \"sibling_spouses_onboard\", \"parents_children_onboard\", \"ticket_price\", \"embark_place\", \"family_onboard\"]\n",
    "\n",
    "X_train = train_data[features_to_use]\n",
    "X_test = test_data[features_to_use]\n",
    "\n",
    "y_train = train_data.survived.values\n",
    "y_test = test_data.survived.values\n",
    "\n",
    "mapper = DataFrameMapper([\n",
    "    (\"ticket_class\", None),\n",
    "    (\"sex\", LabelBinarizer()),\n",
    "    ([\"age\"], None),\n",
    "    (\"sibling_spouses_onboard\", None),\n",
    "    (\"parents_children_onboard\", None),\n",
    "    ([\"ticket_price\"], [SimpleImputer(strategy=\"median\")]),\n",
    "    (\"embark_place\", LabelBinarizer()),\n",
    "    (\"family_onboard\", None),\n",
    "])\n",
    "\n",
    "mapper.fit(X_train)\n",
    "\n",
    "X_train = mapper.transform(X_train)\n",
    "X_test = mapper.transform(X_test)"
   ]
  },
  {
   "cell_type": "code",
   "execution_count": 5,
   "metadata": {},
   "outputs": [
    {
     "name": "stdout",
     "output_type": "stream",
     "text": [
      "0.7847533632286996\n"
     ]
    },
    {
     "name": "stderr",
     "output_type": "stream",
     "text": [
      "/home/giuliano/kaggle/kaggle-titanic/venv/lib/python3.7/site-packages/sklearn/linear_model/logistic.py:432: FutureWarning: Default solver will be changed to 'lbfgs' in 0.22. Specify a solver to silence this warning.\n",
      "  FutureWarning)\n"
     ]
    }
   ],
   "source": [
    "logistic_reg_model = LogisticRegression()\n",
    "logistic_reg_model.fit(X_train, y_train)\n",
    "\n",
    "pred = logistic_reg_model.predict(X_test)\n",
    "\n",
    "print(logistic_reg_model.score(X_test, y_test))"
   ]
  },
  {
   "cell_type": "code",
   "execution_count": null,
   "metadata": {},
   "outputs": [],
   "source": [
    "random_forest_model = RandomForestClassifier()\n",
    "\n",
    "parameters = dict(n_estimators=np.arange(1, 1000), max_depth=np.arange(0, 1000), min_samples_split=np.arange(0, 1000), )\n",
    "grid_search_cv = GridSearchCV(random_forest_model, parameters, cv=5, n_jobs=-1)\n",
    "grid_search_cv.fit(X_train, y_train)\n",
    "\n",
    "print(grid_search_cv.score(X_test, y_test))"
   ]
  },
  {
   "cell_type": "code",
   "execution_count": null,
   "metadata": {},
   "outputs": [],
   "source": []
  },
  {
   "cell_type": "markdown",
   "metadata": {},
   "source": [
    "### Validation"
   ]
  },
  {
   "cell_type": "code",
   "execution_count": 8,
   "metadata": {},
   "outputs": [],
   "source": [
    "validation_data = pd.read_csv(\"data/test.csv\")\n",
    "validation_data = pre_process(validation_data)\n",
    "validation_X = validation_data[features_to_use]\n",
    "validation_X = mapper.transform(validation_X)\n",
    "validation_data[\"pred\"] = random_forest_model.predict(validation_X)"
   ]
  },
  {
   "cell_type": "code",
   "execution_count": 9,
   "metadata": {},
   "outputs": [],
   "source": [
    "(validation_data[[\"passenger_id\", \"pred\"]]\n",
    " .rename(columns={\"passenger_id\": \"PassengerId\", \"pred\": \"Survived\"})\n",
    " .to_csv(\"submissions/sub_3.csv\", index=False))"
   ]
  },
  {
   "cell_type": "code",
   "execution_count": null,
   "metadata": {},
   "outputs": [],
   "source": []
  }
 ],
 "metadata": {
  "kernelspec": {
   "display_name": "Python 3",
   "language": "python",
   "name": "python3"
  },
  "language_info": {
   "codemirror_mode": {
    "name": "ipython",
    "version": 3
   },
   "file_extension": ".py",
   "mimetype": "text/x-python",
   "name": "python",
   "nbconvert_exporter": "python",
   "pygments_lexer": "ipython3",
   "version": "3.7.3"
  }
 },
 "nbformat": 4,
 "nbformat_minor": 4
}
